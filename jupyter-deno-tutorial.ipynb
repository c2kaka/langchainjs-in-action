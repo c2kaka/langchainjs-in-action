{
 "cells": [
  {
   "cell_type": "code",
   "execution_count": 1,
   "id": "adee85bb-946c-4e8c-b723-334909a8a202",
   "metadata": {},
   "outputs": [],
   "source": [
    "import _ from \"lodash\""
   ]
  },
  {
   "cell_type": "code",
   "execution_count": 2,
   "id": "faec16b5-5f50-4c80-86b1-9c827d45a3bb",
   "metadata": {},
   "outputs": [
    {
     "data": {
      "text/plain": [
       "\u001b[33m2\u001b[39m"
      ]
     },
     "execution_count": 2,
     "metadata": {},
     "output_type": "execute_result"
    }
   ],
   "source": [
    "const a = _.random(0, 10);\n",
    "a\n"
   ]
  },
  {
   "cell_type": "code",
   "execution_count": null,
   "id": "40b67020-50c3-413c-adfa-c7b29fbb6a50",
   "metadata": {},
   "outputs": [],
   "source": []
  }
 ],
 "metadata": {
  "kernelspec": {
   "display_name": "Deno",
   "language": "typescript",
   "name": "deno"
  },
  "language_info": {
   "file_extension": ".ts",
   "mimetype": "text/x.typescript",
   "name": "typescript",
   "nb_converter": "script",
   "pygments_lexer": "typescript",
   "version": "5.4.5"
  }
 },
 "nbformat": 4,
 "nbformat_minor": 5
}
